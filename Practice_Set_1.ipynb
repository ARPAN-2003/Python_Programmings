{
 "cells": [
  {
   "cell_type": "code",
   "execution_count": 1,
   "id": "3086802b-4902-40f7-b35c-0c88b21d4c59",
   "metadata": {},
   "outputs": [
    {
     "name": "stdout",
     "output_type": "stream",
     "text": [
      "Hello World!\n"
     ]
    }
   ],
   "source": [
    "#Our 1st python program\n",
    "print(\"Hello World!\")"
   ]
  },
  {
   "cell_type": "code",
   "execution_count": 1,
   "id": "0d513de6-a799-48b0-b6a6-82cd93b93332",
   "metadata": {},
   "outputs": [
    {
     "name": "stdout",
     "output_type": "stream",
     "text": [
      "Before swap, the numbers are -  23 18\n",
      "After swap, the numbers are -  18 23\n"
     ]
    }
   ],
   "source": [
    "#Swap the values of defined two variables without using any temporary variable\n",
    "x,y=23,18\n",
    "print(\"Before swap, the numbers are - \",x,y)\n",
    "x=x+y\n",
    "y=x-y\n",
    "x=x-y\n",
    "print(\"After swap, the numbers are - \",x,y)"
   ]
  },
  {
   "cell_type": "code",
   "execution_count": 2,
   "id": "453be78f-d3a7-4ed1-aae1-53e90129212f",
   "metadata": {},
   "outputs": [
    {
     "name": "stdin",
     "output_type": "stream",
     "text": [
      "Enter the length of the rectangle:  18\n",
      "Enter the width of the rectangle:  23\n"
     ]
    },
    {
     "name": "stdout",
     "output_type": "stream",
     "text": [
      "The rectangle's area is  414 square unit\n"
     ]
    }
   ],
   "source": [
    "#Take length and width of a rectangle from user & find the rectangle's area\n",
    "length=int(input(\"Enter the length of the rectangle: \"))\n",
    "width=int(input(\"Enter the width of the rectangle: \"))\n",
    "print(\"The rectangle's area is \", length*width, \"square unit\")"
   ]
  },
  {
   "cell_type": "code",
   "execution_count": 4,
   "id": "1d980f9c-bf36-4446-b7f9-8e123acb4d0c",
   "metadata": {},
   "outputs": [
    {
     "name": "stdin",
     "output_type": "stream",
     "text": [
      "Enter the temperature in Celsius:  27\n"
     ]
    },
    {
     "name": "stdout",
     "output_type": "stream",
     "text": [
      "The temprarure 27.0 C in fahrenheit is 80.6 F\n",
      "\n"
     ]
    },
    {
     "name": "stdin",
     "output_type": "stream",
     "text": [
      "Enter the temperature in Fahrenheit:  86\n"
     ]
    },
    {
     "name": "stdout",
     "output_type": "stream",
     "text": [
      "The temprarure 86.0 F in celsius is 30.0 C\n"
     ]
    }
   ],
   "source": [
    "#Convert user-given temperature from Celsius to Fahrenheit & vice-versa later\n",
    "temperature_in_celsius=float(input(\"Enter the temperature in Celsius: \"))\n",
    "Fahrenheit=((temperature_in_celsius/5)*9)+32\n",
    "print(f\"The temprarure {temperature_in_celsius} C in fahrenheit is {Fahrenheit} F\\n\")\n",
    "temperature_in_fahrenheit=float(input(\"Enter the temperature in Fahrenheit: \"))\n",
    "Celsius=((temperature_in_fahrenheit-32)/9)*5\n",
    "print(f\"The temprarure {temperature_in_fahrenheit} F in celsius is {Celsius} C\")"
   ]
  },
  {
   "cell_type": "code",
   "execution_count": 6,
   "id": "2917b728-fc44-455d-b9cb-9e0eea2e291d",
   "metadata": {},
   "outputs": [
    {
     "name": "stdin",
     "output_type": "stream",
     "text": [
      "Enter the string:  Chhatrapati Shivaji Maharaj Terminus\n"
     ]
    },
    {
     "name": "stdout",
     "output_type": "stream",
     "text": [
      "The length of the string 'Chhatrapati Shivaji Maharaj Terminus' is 36\n"
     ]
    }
   ],
   "source": [
    "#Take a string from user & find the length of the string\n",
    "string=input(\"Enter the string: \")\n",
    "print(f\"The length of the string '{string}' is\", len(string))"
   ]
  },
  {
   "cell_type": "code",
   "execution_count": 1,
   "id": "4365c953-9ae6-49b9-b097-c3b7c99409eb",
   "metadata": {},
   "outputs": [
    {
     "name": "stdin",
     "output_type": "stream",
     "text": [
      "Enter the sentence:  Chhatrapati Shivaji Maharaj Terminus\n"
     ]
    },
    {
     "name": "stdout",
     "output_type": "stream",
     "text": [
      "In the sentence 'Chhatrapati Shivaji Maharaj Terminus' , the total number of vowels is 13\n"
     ]
    }
   ],
   "source": [
    "#Take a sentence from user & find the total number of vowels in the string\n",
    "string=input(\"Enter the sentence: \")\n",
    "vowels=[\"a\", \"A\", \"e\", \"E\", \"i\", \"I\", \"o\", \"O\", \"u\", \"U\"]\n",
    "count=0\n",
    "for i in string:\n",
    "    if i in vowels:\n",
    "        count=count+1\n",
    "print(f\"In the sentence '{string}' , the total number of vowels is\", count)"
   ]
  },
  {
   "cell_type": "code",
   "execution_count": 2,
   "id": "2f9f7732-f007-45f7-8fc5-6efa30792588",
   "metadata": {},
   "outputs": [
    {
     "name": "stdin",
     "output_type": "stream",
     "text": [
      "Enter the string:  sunimreT jarahaM ijavihS itapartahhC\n"
     ]
    },
    {
     "name": "stdout",
     "output_type": "stream",
     "text": [
      "The reversed string is Chhatrapati Shivaji Maharaj Terminus\n"
     ]
    }
   ],
   "source": [
    "#Take a string & display the reversed string\n",
    "string=input(\"Enter the string: \")\n",
    "reversed_string=string[::-1]\n",
    "print(\"The reversed string is\", reversed_string)"
   ]
  },
  {
   "cell_type": "code",
   "execution_count": 6,
   "id": "8c052ab9-79de-4065-a966-6bdf93f1ea8e",
   "metadata": {},
   "outputs": [
    {
     "name": "stdin",
     "output_type": "stream",
     "text": [
      "Enter the string:  rotator\n"
     ]
    },
    {
     "name": "stdout",
     "output_type": "stream",
     "text": [
      "The entered string rotator is a Palindrome String\n"
     ]
    }
   ],
   "source": [
    "#Take a string & Check whether the string is palindrome string or not\n",
    "string=input(\"Enter the string: \")\n",
    "string=string.replace(\" \", \"\")\n",
    "string=string.lower()\n",
    "reversed_string = string[::-1]\n",
    "if string == reversed_string:\n",
    "    print(f\"The entered string {string} is a Palindrome String\")\n",
    "else:\n",
    "    print(f\"The entered string {string} is not a Palindrome String\")"
   ]
  },
  {
   "cell_type": "code",
   "execution_count": 1,
   "id": "e05fbc77-51d0-45ab-99bc-8e3c9fc8b893",
   "metadata": {},
   "outputs": [
    {
     "name": "stdin",
     "output_type": "stream",
     "text": [
      "Enter the string:  Chhatrapati Shivaji Maharaj Terminus\n"
     ]
    },
    {
     "name": "stdout",
     "output_type": "stream",
     "text": [
      "After removing all spaces, the new string is - ChhatrapatiShivajiMaharajTerminus\n"
     ]
    }
   ],
   "source": [
    "#Take a string & Display the modified string by removing all the spaces from that string\n",
    "string=input(\"Enter the string: \")\n",
    "new_string=string.replace(\" \", \"\")\n",
    "print(\"After removing all spaces, the new string is -\",new_string)"
   ]
  },
  {
   "cell_type": "code",
   "execution_count": null,
   "id": "b3ad85a5-f1f4-49a6-9ca4-030b7cb70c08",
   "metadata": {},
   "outputs": [],
   "source": []
  }
 ],
 "metadata": {
  "kernelspec": {
   "display_name": "Python 3 (ipykernel)",
   "language": "python",
   "name": "python3"
  },
  "language_info": {
   "codemirror_mode": {
    "name": "ipython",
    "version": 3
   },
   "file_extension": ".py",
   "mimetype": "text/x-python",
   "name": "python",
   "nbconvert_exporter": "python",
   "pygments_lexer": "ipython3",
   "version": "3.11.5"
  }
 },
 "nbformat": 4,
 "nbformat_minor": 5
}
